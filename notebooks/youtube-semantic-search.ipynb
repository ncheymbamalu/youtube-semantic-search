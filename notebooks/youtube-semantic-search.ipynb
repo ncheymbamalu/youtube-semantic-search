{
 "cells": [
  {
   "cell_type": "code",
   "execution_count": null,
   "metadata": {},
   "outputs": [],
   "source": [
    "%%bash\n",
    "cd ..\n",
    "tree"
   ]
  },
  {
   "cell_type": "markdown",
   "metadata": {},
   "source": [
    "#### **`Dependencies`**"
   ]
  },
  {
   "cell_type": "code",
   "execution_count": null,
   "metadata": {},
   "outputs": [],
   "source": [
    "import os\n",
    "\n",
    "import pandas as pd\n",
    "import polars as pl\n",
    "\n",
    "from joblib import Parallel, delayed\n",
    "from sentence_transformers import SentenceTransformer\n",
    "from tqdm import tqdm\n",
    "\n",
    "from src.paths import PathConfig, load_config\n",
    "from src.utils import embed_transcripts, transcribe_videos"
   ]
  },
  {
   "cell_type": "code",
   "execution_count": null,
   "metadata": {},
   "outputs": [],
   "source": [
    "# set the Pandas display options\n",
    "pd.set_option(\"display.max_rows\", 100) # max number of rows to display\n",
    "pd.set_option(\"display.max_columns\", None) # max number of columns to display\n",
    "\n",
    "# set the Polars display options\n",
    "pl.Config(\n",
    "    tbl_rows=100, # max number of rows to display\n",
    "    tbl_cols=1000, # max number of columns to display\n",
    "    tbl_width_chars=10_000, # max table width, in characters\n",
    "    fmt_str_lengths=100, # max number of characters to display for a pl.Utf8 (str) dtype column\n",
    "    fmt_table_cell_list_len=20 # max number of items to display for a pl.List dtype column\n",
    ")"
   ]
  },
  {
   "cell_type": "markdown",
   "metadata": {},
   "source": [
    "#### **`extract-transform-load`**"
   ]
  },
  {
   "cell_type": "code",
   "execution_count": null,
   "metadata": {},
   "outputs": [],
   "source": [
    "# load the YouTube channel IDs\n",
    "youtube_channel_ids: list[str] = load_config().get(\"youtube_channel_ids\")\n",
    "youtube_channel_ids[:5]"
   ]
  },
  {
   "cell_type": "code",
   "execution_count": null,
   "metadata": {},
   "outputs": [],
   "source": [
    "# a list of pl.LazyFrames, one per YouTube channel ID\n",
    "lfs: list[pl.LazyFrame] = Parallel(n_jobs=-1)(\n",
    "    delayed(transcribe_videos)(channel_id) for channel_id in tqdm(youtube_channel_ids)\n",
    ")"
   ]
  },
  {
   "cell_type": "code",
   "execution_count": null,
   "metadata": {},
   "outputs": [],
   "source": [
    "# vertically concatenate the list of pl.LazyFrames into a single pl.DataFrame\n",
    "df: pl.DataFrame = (\n",
    "    pl.concat(lfs, how=\"vertical\")\n",
    "    .unique(subset=\"video_id\")\n",
    "    .sort(by=\"creation_date\")\n",
    "    .collect()\n",
    ")\n",
    "print(df)"
   ]
  },
  {
   "cell_type": "markdown",
   "metadata": {},
   "source": [
    "- [**`Hugging Face Embedding Models Leaderboard`**](https://huggingface.co/spaces/mteb/leaderboard)\n",
    "\n",
    "- [**`15 Best Open Source Text Embedding Models`**](https://www.graft.com/blog/open-source-text-embedding-models#15-open-source-text-embedding-models-updated-april-2024)\n",
    "\n",
    "- [**`Alibaba-NLP/gte-large-en-v1.5 Embedding Model`**](https://huggingface.co/Alibaba-NLP/gte-large-en-v1.5)"
   ]
  },
  {
   "cell_type": "code",
   "execution_count": null,
   "metadata": {},
   "outputs": [],
   "source": [
    "# fetch the embedding model from Hugging Face\n",
    "model_id: str = load_config().get(\"embedding_model_id\")\n",
    "embedding_model: SentenceTransformer = SentenceTransformer(model_id, trust_remote_code=True)\n",
    "embedding_model, embedding_model.get_sentence_embedding_dimension()"
   ]
  },
  {
   "cell_type": "code",
   "execution_count": null,
   "metadata": {},
   "outputs": [],
   "source": [
    "# create serialized embeddings for the video transcripts, and ...\n",
    "# write the resulting pl.DataFrame to ~/data/youtube_transcripts.parquet\n",
    "(\n",
    "    df\n",
    "    .pipe(embed_transcripts, embedding_model)\n",
    "    .with_columns(pl.col(\"creation_date\").str.to_datetime())\n",
    "    .write_parquet(PathConfig.PROCESSED_DATA_PATH)\n",
    ")"
   ]
  },
  {
   "cell_type": "code",
   "execution_count": null,
   "metadata": {},
   "outputs": [],
   "source": [
    "# read in ~/data/youtube_transcripts.parquet \n",
    "print(pl.read_parquet(PathConfig.PROCESSED_DATA_PATH))"
   ]
  }
 ],
 "metadata": {
  "kernelspec": {
   "display_name": ".venv",
   "language": "python",
   "name": "python3"
  },
  "language_info": {
   "codemirror_mode": {
    "name": "ipython",
    "version": 3
   },
   "file_extension": ".py",
   "mimetype": "text/x-python",
   "name": "python",
   "nbconvert_exporter": "python",
   "pygments_lexer": "ipython3",
   "version": "3.10.14"
  }
 },
 "nbformat": 4,
 "nbformat_minor": 2
}
